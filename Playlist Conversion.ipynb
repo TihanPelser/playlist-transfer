{
 "cells": [
  {
   "cell_type": "code",
   "execution_count": 1,
   "metadata": {
    "scrolled": false
   },
   "outputs": [],
   "source": [
    "import requests\n",
    "import json\n",
    "import spotipy\n",
    "import spotipy.util as util\n",
    "from spotipy.oauth2 import SpotifyClientCredentials\n",
    "\n",
    "\n",
    "SPOTIFY_TOKEN_SCOPE = 'playlist-modify-private'\n",
    "SPOTIFY_USERNAME = '42sw3i9k94fjxzgw00ug7kaza'\n",
    "SPOTIFY_CLIENT_ID = 'f6768eaff74e41f8b6a0b42341acd841'\n",
    "SPOTIFY_CLIENT_SECRET = '20fa102ef869490f87714d58803a6ed2'\n",
    "\n",
    "DEEZER_ID = '1394580944'\n",
    "\n",
    "\n",
    "track_ids = []\n",
    "\n",
    "\n",
    "def get_deezer_user_data(user_id) -> dict:\n",
    "    user_playlists = requests.get(\"https://api.deezer.com/user/\" + user_id + \"/playlists\").json()\n",
    "    return user_playlists   \n",
    "\n",
    "def get_playlist_tracks_deezer(user_playlists, playlist_name) -> list:\n",
    "    more_tracks = True\n",
    "    loved_tracks_deezer = []\n",
    "#     Get first page of tracklist\n",
    "    for playlist in user_playlists[\"data\"]:\n",
    "        if playlist[\"title\"].lower() == playlist_name.lower():\n",
    "            tracklist_url = playlist[\"tracklist\"]\n",
    "            tracklist = requests.get(tracklist_url).json()\n",
    "#     Get next pages of tracklist\n",
    "    while more_tracks:\n",
    "        for track in tracklist[\"data\"]:\n",
    "            loved_tracks_deezer.append([track[\"title\"], track[\"artist\"][\"name\"]])\n",
    "        if \"next\" in tracklist.keys():\n",
    "            tracklist = requests.get(tracklist[\"next\"]).json()\n",
    "        else:\n",
    "            more_tracks = False\n",
    "    return loved_tracks_deezer\n",
    "\n",
    "def auth_spotify() -> spotipy.client.Spotify:\n",
    "    scc = spotipy.oauth2.SpotifyClientCredentials(client_id=SPOTIFY_CLIENT_ID, client_secret=SPOTIFY_CLIENT_SECRET)    \n",
    "    token = util.prompt_for_user_token(SPOTIFY_USERNAME, scope=SPOTIFY_TOKEN_SCOPE, \n",
    "                                       client_id=SPOTIFY_CLIENT_ID, client_secret=SPOTIFY_CLIENT_SECRET, \n",
    "                                       redirect_uri=\"http://localhost/\")\n",
    "    sp_client = spotipy.client.Spotify(client_credentials_manager=scc, auth=token)\n",
    "    return sp_client\n",
    "\n",
    "def search_tracks_on_spotify(sp_client, tracklist) -> list:\n",
    "    ids = []\n",
    "    not_found = []\n",
    "    for track in tracklist:\n",
    "        q = track[0] + ' ' + track[1]\n",
    "        results = sp_client.search(q, limit=10, offset=0, type='track', market=None)\n",
    "        if len(results[\"tracks\"][\"items\"]) > 0:\n",
    "            ids.append(results[\"tracks\"][\"items\"][0][\"id\"])\n",
    "        else:\n",
    "            not_found.append(q)\n",
    "        \n",
    "    return ids, not_found\n",
    "\n",
    "def add_tracks_to_library(sp_client, ids) -> None:\n",
    "    for i,track_id in enumerate(ids):\n",
    "        print(str(i) + \": \" + track_id)\n",
    "        sp_client.current_user_saved_tracks_add([track_id])\n",
    "        \n",
    "\n",
    "def find_playlist_id(sp_client, name) -> str:\n",
    "    results = sp_client.current_user_playlists(limit=50, offset=0)\n",
    "    for playlist in results[\"items\"]:\n",
    "        if playlist[\"name\"].lower() == name:\n",
    "            return playlist[\"id\"]\n",
    "\n",
    "        \n",
    "def add_to_playlist_spotify(sp_client, tracklist, playlist_id) -> None:\n",
    "    for track in tracklist:\n",
    "        print(track)\n",
    "        sp_client.user_playlist_add_tracks(SPOTIFY_USERNAME, playlist_id, track)\n",
    "\n",
    "\n",
    "def run_all():\n",
    "    user_data = get_deezer_user_data(DEEZER_ID)\n",
    "    tracklist = get_playlist_tracks_deezer(user_data, \"all time favourites\")\n",
    "    sp_client = auth_spotify()\n",
    "    ids, not_found = search_tracks_on_spotify(sp_client, tracklist)\n",
    "    track_ids = ids\n",
    "    playlist_id = find_playlist_id(sp_client, \"all time favourites\")\n",
    "    add_to_playlist_spotify(sp_client, ids, playlist_id)\n",
    "#     add_tracks_to_library(sp_client, ids)\n",
    "    print(not_found)\n",
    "    "
   ]
  },
  {
   "cell_type": "code",
   "execution_count": 51,
   "metadata": {},
   "outputs": [
    {
     "name": "stdout",
     "output_type": "stream",
     "text": [
      "[]\n"
     ]
    }
   ],
   "source": [
    "print(track_ids)"
   ]
  },
  {
   "cell_type": "code",
   "execution_count": 2,
   "metadata": {},
   "outputs": [
    {
     "name": "stdout",
     "output_type": "stream",
     "text": [
      "5kBUIe8UcUUGLzP4hoc8XJ\n"
     ]
    },
    {
     "ename": "SpotifyException",
     "evalue": "http status: 400, code:-1 - https://api.spotify.com/v1/users/42sw3i9k94fjxzgw00ug7kaza/playlists/6kVjKrJX4Bb1cUgDwGbtGZ/tracks:\n Invalid track uri: spotify:track:5",
     "output_type": "error",
     "traceback": [
      "\u001b[1;31m---------------------------------------------------------------------------\u001b[0m",
      "\u001b[1;31mHTTPError\u001b[0m                                 Traceback (most recent call last)",
      "\u001b[1;32m~\\Anaconda3\\lib\\site-packages\\spotipy\\client.py\u001b[0m in \u001b[0;36m_internal_call\u001b[1;34m(self, method, url, payload, params)\u001b[0m\n\u001b[0;32m    118\u001b[0m         \u001b[1;32mtry\u001b[0m\u001b[1;33m:\u001b[0m\u001b[1;33m\u001b[0m\u001b[1;33m\u001b[0m\u001b[0m\n\u001b[1;32m--> 119\u001b[1;33m             \u001b[0mr\u001b[0m\u001b[1;33m.\u001b[0m\u001b[0mraise_for_status\u001b[0m\u001b[1;33m(\u001b[0m\u001b[1;33m)\u001b[0m\u001b[1;33m\u001b[0m\u001b[1;33m\u001b[0m\u001b[0m\n\u001b[0m\u001b[0;32m    120\u001b[0m         \u001b[1;32mexcept\u001b[0m\u001b[1;33m:\u001b[0m\u001b[1;33m\u001b[0m\u001b[1;33m\u001b[0m\u001b[0m\n",
      "\u001b[1;32m~\\Anaconda3\\lib\\site-packages\\requests\\models.py\u001b[0m in \u001b[0;36mraise_for_status\u001b[1;34m(self)\u001b[0m\n\u001b[0;32m    939\u001b[0m         \u001b[1;32mif\u001b[0m \u001b[0mhttp_error_msg\u001b[0m\u001b[1;33m:\u001b[0m\u001b[1;33m\u001b[0m\u001b[1;33m\u001b[0m\u001b[0m\n\u001b[1;32m--> 940\u001b[1;33m             \u001b[1;32mraise\u001b[0m \u001b[0mHTTPError\u001b[0m\u001b[1;33m(\u001b[0m\u001b[0mhttp_error_msg\u001b[0m\u001b[1;33m,\u001b[0m \u001b[0mresponse\u001b[0m\u001b[1;33m=\u001b[0m\u001b[0mself\u001b[0m\u001b[1;33m)\u001b[0m\u001b[1;33m\u001b[0m\u001b[1;33m\u001b[0m\u001b[0m\n\u001b[0m\u001b[0;32m    941\u001b[0m \u001b[1;33m\u001b[0m\u001b[0m\n",
      "\u001b[1;31mHTTPError\u001b[0m: 400 Client Error: Bad Request for url: https://api.spotify.com/v1/users/42sw3i9k94fjxzgw00ug7kaza/playlists/6kVjKrJX4Bb1cUgDwGbtGZ/tracks",
      "\nDuring handling of the above exception, another exception occurred:\n",
      "\u001b[1;31mSpotifyException\u001b[0m                          Traceback (most recent call last)",
      "\u001b[1;32m<ipython-input-2-22cc3395ec99>\u001b[0m in \u001b[0;36m<module>\u001b[1;34m\u001b[0m\n\u001b[1;32m----> 1\u001b[1;33m \u001b[0mrun_all\u001b[0m\u001b[1;33m(\u001b[0m\u001b[1;33m)\u001b[0m\u001b[1;33m\u001b[0m\u001b[1;33m\u001b[0m\u001b[0m\n\u001b[0m",
      "\u001b[1;32m<ipython-input-1-eb2d58ecffca>\u001b[0m in \u001b[0;36mrun_all\u001b[1;34m()\u001b[0m\n\u001b[0;32m     86\u001b[0m     \u001b[0mtrack_ids\u001b[0m \u001b[1;33m=\u001b[0m \u001b[0mids\u001b[0m\u001b[1;33m\u001b[0m\u001b[1;33m\u001b[0m\u001b[0m\n\u001b[0;32m     87\u001b[0m     \u001b[0mplaylist_id\u001b[0m \u001b[1;33m=\u001b[0m \u001b[0mfind_playlist_id\u001b[0m\u001b[1;33m(\u001b[0m\u001b[0msp_client\u001b[0m\u001b[1;33m,\u001b[0m \u001b[1;34m\"all time favourites\"\u001b[0m\u001b[1;33m)\u001b[0m\u001b[1;33m\u001b[0m\u001b[1;33m\u001b[0m\u001b[0m\n\u001b[1;32m---> 88\u001b[1;33m     \u001b[0madd_to_playlist_spotify\u001b[0m\u001b[1;33m(\u001b[0m\u001b[0msp_client\u001b[0m\u001b[1;33m,\u001b[0m \u001b[0mids\u001b[0m\u001b[1;33m,\u001b[0m \u001b[0mplaylist_id\u001b[0m\u001b[1;33m)\u001b[0m\u001b[1;33m\u001b[0m\u001b[1;33m\u001b[0m\u001b[0m\n\u001b[0m\u001b[0;32m     89\u001b[0m \u001b[1;31m#     add_tracks_to_library(sp_client, ids)\u001b[0m\u001b[1;33m\u001b[0m\u001b[1;33m\u001b[0m\u001b[1;33m\u001b[0m\u001b[0m\n\u001b[0;32m     90\u001b[0m     \u001b[0mprint\u001b[0m\u001b[1;33m(\u001b[0m\u001b[0mnot_found\u001b[0m\u001b[1;33m)\u001b[0m\u001b[1;33m\u001b[0m\u001b[1;33m\u001b[0m\u001b[0m\n",
      "\u001b[1;32m<ipython-input-1-eb2d58ecffca>\u001b[0m in \u001b[0;36madd_to_playlist_spotify\u001b[1;34m(sp_client, tracklist, playlist_id)\u001b[0m\n\u001b[0;32m     76\u001b[0m     \u001b[1;32mfor\u001b[0m \u001b[0mtrack\u001b[0m \u001b[1;32min\u001b[0m \u001b[0mtracklist\u001b[0m\u001b[1;33m:\u001b[0m\u001b[1;33m\u001b[0m\u001b[1;33m\u001b[0m\u001b[0m\n\u001b[0;32m     77\u001b[0m         \u001b[0mprint\u001b[0m\u001b[1;33m(\u001b[0m\u001b[0mtrack\u001b[0m\u001b[1;33m)\u001b[0m\u001b[1;33m\u001b[0m\u001b[1;33m\u001b[0m\u001b[0m\n\u001b[1;32m---> 78\u001b[1;33m         \u001b[0msp_client\u001b[0m\u001b[1;33m.\u001b[0m\u001b[0muser_playlist_add_tracks\u001b[0m\u001b[1;33m(\u001b[0m\u001b[0mSPOTIFY_USERNAME\u001b[0m\u001b[1;33m,\u001b[0m \u001b[0mplaylist_id\u001b[0m\u001b[1;33m,\u001b[0m \u001b[0mtrack\u001b[0m\u001b[1;33m)\u001b[0m\u001b[1;33m\u001b[0m\u001b[1;33m\u001b[0m\u001b[0m\n\u001b[0m\u001b[0;32m     79\u001b[0m \u001b[1;33m\u001b[0m\u001b[0m\n\u001b[0;32m     80\u001b[0m \u001b[1;33m\u001b[0m\u001b[0m\n",
      "\u001b[1;32m~\\Anaconda3\\lib\\site-packages\\spotipy\\client.py\u001b[0m in \u001b[0;36muser_playlist_add_tracks\u001b[1;34m(self, user, playlist_id, tracks, position)\u001b[0m\n\u001b[0;32m    455\u001b[0m         \u001b[0mftracks\u001b[0m \u001b[1;33m=\u001b[0m \u001b[1;33m[\u001b[0m\u001b[0mself\u001b[0m\u001b[1;33m.\u001b[0m\u001b[0m_get_uri\u001b[0m\u001b[1;33m(\u001b[0m\u001b[1;34m'track'\u001b[0m\u001b[1;33m,\u001b[0m \u001b[0mtid\u001b[0m\u001b[1;33m)\u001b[0m \u001b[1;32mfor\u001b[0m \u001b[0mtid\u001b[0m \u001b[1;32min\u001b[0m \u001b[0mtracks\u001b[0m\u001b[1;33m]\u001b[0m\u001b[1;33m\u001b[0m\u001b[1;33m\u001b[0m\u001b[0m\n\u001b[0;32m    456\u001b[0m         return self._post(\"users/%s/playlists/%s/tracks\" % (user, plid),\n\u001b[1;32m--> 457\u001b[1;33m                           payload=ftracks, position=position)\n\u001b[0m\u001b[0;32m    458\u001b[0m \u001b[1;33m\u001b[0m\u001b[0m\n\u001b[0;32m    459\u001b[0m     \u001b[1;32mdef\u001b[0m \u001b[0muser_playlist_replace_tracks\u001b[0m\u001b[1;33m(\u001b[0m\u001b[0mself\u001b[0m\u001b[1;33m,\u001b[0m \u001b[0muser\u001b[0m\u001b[1;33m,\u001b[0m \u001b[0mplaylist_id\u001b[0m\u001b[1;33m,\u001b[0m \u001b[0mtracks\u001b[0m\u001b[1;33m)\u001b[0m\u001b[1;33m:\u001b[0m\u001b[1;33m\u001b[0m\u001b[1;33m\u001b[0m\u001b[0m\n",
      "\u001b[1;32m~\\Anaconda3\\lib\\site-packages\\spotipy\\client.py\u001b[0m in \u001b[0;36m_post\u001b[1;34m(self, url, args, payload, **kwargs)\u001b[0m\n\u001b[0;32m    176\u001b[0m         \u001b[1;32mif\u001b[0m \u001b[0margs\u001b[0m\u001b[1;33m:\u001b[0m\u001b[1;33m\u001b[0m\u001b[1;33m\u001b[0m\u001b[0m\n\u001b[0;32m    177\u001b[0m             \u001b[0mkwargs\u001b[0m\u001b[1;33m.\u001b[0m\u001b[0mupdate\u001b[0m\u001b[1;33m(\u001b[0m\u001b[0margs\u001b[0m\u001b[1;33m)\u001b[0m\u001b[1;33m\u001b[0m\u001b[1;33m\u001b[0m\u001b[0m\n\u001b[1;32m--> 178\u001b[1;33m         \u001b[1;32mreturn\u001b[0m \u001b[0mself\u001b[0m\u001b[1;33m.\u001b[0m\u001b[0m_internal_call\u001b[0m\u001b[1;33m(\u001b[0m\u001b[1;34m'POST'\u001b[0m\u001b[1;33m,\u001b[0m \u001b[0murl\u001b[0m\u001b[1;33m,\u001b[0m \u001b[0mpayload\u001b[0m\u001b[1;33m,\u001b[0m \u001b[0mkwargs\u001b[0m\u001b[1;33m)\u001b[0m\u001b[1;33m\u001b[0m\u001b[1;33m\u001b[0m\u001b[0m\n\u001b[0m\u001b[0;32m    179\u001b[0m \u001b[1;33m\u001b[0m\u001b[0m\n\u001b[0;32m    180\u001b[0m     \u001b[1;32mdef\u001b[0m \u001b[0m_delete\u001b[0m\u001b[1;33m(\u001b[0m\u001b[0mself\u001b[0m\u001b[1;33m,\u001b[0m \u001b[0murl\u001b[0m\u001b[1;33m,\u001b[0m \u001b[0margs\u001b[0m\u001b[1;33m=\u001b[0m\u001b[1;32mNone\u001b[0m\u001b[1;33m,\u001b[0m \u001b[0mpayload\u001b[0m\u001b[1;33m=\u001b[0m\u001b[1;32mNone\u001b[0m\u001b[1;33m,\u001b[0m \u001b[1;33m**\u001b[0m\u001b[0mkwargs\u001b[0m\u001b[1;33m)\u001b[0m\u001b[1;33m:\u001b[0m\u001b[1;33m\u001b[0m\u001b[1;33m\u001b[0m\u001b[0m\n",
      "\u001b[1;32m~\\Anaconda3\\lib\\site-packages\\spotipy\\client.py\u001b[0m in \u001b[0;36m_internal_call\u001b[1;34m(self, method, url, payload, params)\u001b[0m\n\u001b[0;32m    122\u001b[0m                 raise SpotifyException(r.status_code,\n\u001b[0;32m    123\u001b[0m                     \u001b[1;33m-\u001b[0m\u001b[1;36m1\u001b[0m\u001b[1;33m,\u001b[0m \u001b[1;34m'%s:\\n %s'\u001b[0m \u001b[1;33m%\u001b[0m \u001b[1;33m(\u001b[0m\u001b[0mr\u001b[0m\u001b[1;33m.\u001b[0m\u001b[0murl\u001b[0m\u001b[1;33m,\u001b[0m \u001b[0mr\u001b[0m\u001b[1;33m.\u001b[0m\u001b[0mjson\u001b[0m\u001b[1;33m(\u001b[0m\u001b[1;33m)\u001b[0m\u001b[1;33m[\u001b[0m\u001b[1;34m'error'\u001b[0m\u001b[1;33m]\u001b[0m\u001b[1;33m[\u001b[0m\u001b[1;34m'message'\u001b[0m\u001b[1;33m]\u001b[0m\u001b[1;33m)\u001b[0m\u001b[1;33m,\u001b[0m\u001b[1;33m\u001b[0m\u001b[1;33m\u001b[0m\u001b[0m\n\u001b[1;32m--> 124\u001b[1;33m                     headers=r.headers)\n\u001b[0m\u001b[0;32m    125\u001b[0m             \u001b[1;32melse\u001b[0m\u001b[1;33m:\u001b[0m\u001b[1;33m\u001b[0m\u001b[1;33m\u001b[0m\u001b[0m\n\u001b[0;32m    126\u001b[0m                 raise SpotifyException(r.status_code,\n",
      "\u001b[1;31mSpotifyException\u001b[0m: http status: 400, code:-1 - https://api.spotify.com/v1/users/42sw3i9k94fjxzgw00ug7kaza/playlists/6kVjKrJX4Bb1cUgDwGbtGZ/tracks:\n Invalid track uri: spotify:track:5"
     ]
    }
   ],
   "source": [
    "run_all()"
   ]
  },
  {
   "cell_type": "code",
   "execution_count": 56,
   "metadata": {},
   "outputs": [
    {
     "name": "stdout",
     "output_type": "stream",
     "text": [
      "[{'collaborative': False, 'external_urls': {'spotify': 'https://open.spotify.com/playlist/6kVjKrJX4Bb1cUgDwGbtGZ'}, 'href': 'https://api.spotify.com/v1/playlists/6kVjKrJX4Bb1cUgDwGbtGZ', 'id': '6kVjKrJX4Bb1cUgDwGbtGZ', 'images': [], 'name': 'All Time Favourites', 'owner': {'display_name': 'Tihan Pelser', 'external_urls': {'spotify': 'https://open.spotify.com/user/42sw3i9k94fjxzgw00ug7kaza'}, 'href': 'https://api.spotify.com/v1/users/42sw3i9k94fjxzgw00ug7kaza', 'id': '42sw3i9k94fjxzgw00ug7kaza', 'type': 'user', 'uri': 'spotify:user:42sw3i9k94fjxzgw00ug7kaza'}, 'primary_color': None, 'public': True, 'snapshot_id': 'MSxhMTE1Y2RmY2UwOTRlOWExNGJlNzdmOGNjYTRhZTA2NGY5OGM2ODZj', 'tracks': {'href': 'https://api.spotify.com/v1/playlists/6kVjKrJX4Bb1cUgDwGbtGZ/tracks', 'total': 0}, 'type': 'playlist', 'uri': 'spotify:playlist:6kVjKrJX4Bb1cUgDwGbtGZ'}]\n"
     ]
    }
   ],
   "source": [
    "sp_client = auth_spotify()\n",
    "find_playlist_id(sp_client, \"meh\")"
   ]
  },
  {
   "cell_type": "code",
   "execution_count": null,
   "metadata": {},
   "outputs": [],
   "source": []
  }
 ],
 "metadata": {
  "kernelspec": {
   "display_name": "Python 3",
   "language": "python",
   "name": "python3"
  },
  "language_info": {
   "codemirror_mode": {
    "name": "ipython",
    "version": 3
   },
   "file_extension": ".py",
   "mimetype": "text/x-python",
   "name": "python",
   "nbconvert_exporter": "python",
   "pygments_lexer": "ipython3",
   "version": "3.7.1"
  }
 },
 "nbformat": 4,
 "nbformat_minor": 2
}
